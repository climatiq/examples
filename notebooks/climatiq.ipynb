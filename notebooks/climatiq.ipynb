{
 "cells": [
  {
   "attachments": {},
   "cell_type": "markdown",
   "metadata": {
    "pycharm": {
     "name": "#%% md\n"
    }
   },
   "source": [
    "# Climatiq notebook examples\n",
    "[Climatiq](https://climatiq.io/) provides an API to help you estimate how much greenhouse gasses your activities emit, based on validated conversion factors known as “emission factors.”  \n",
    "An emission factor is a way to convert different human activities into greenhouse gases.\n",
    "It will take that human activity and estimate how much CO2 equivalent (abbreviated CO2e, usually expressed in kilograms), that activity will emit.\n",
    "\n",
    "Different emission factors can help us answer questions like:\n",
    "- How much CO2e is emitted taking the train from Paris to Berlin?\n",
    "- How much CO2e is emitted spending $1,000 on soft drinks in the US?\n",
    "- How much CO2e is emitted staying a night at a hotel in China?\n",
    "\n",
    "Climatiq has a wide variety of emission factors available, that you can browse in our [Data Explorer](https://explorer.climatiq.io/), to get a feel for the sort of questions Climatiq can help you answer."
   ]
  },
  {
   "attachments": {},
   "cell_type": "markdown",
   "metadata": {
    "pycharm": {
     "name": "#%% md\n"
    }
   },
   "source": [
    "# API Key\n",
    "All calls to the Climatiq API require that you have an account and that you send your API key. Signing up is free and takes only a few minutes.\n",
    "\n",
    "[Click here](https://docs.climatiq.io/guides/getting-api-key) to see how to sign up and get your API key, which you should input below."
   ]
  },
  {
   "cell_type": "code",
   "execution_count": 33,
   "metadata": {
    "collapsed": false,
    "pycharm": {
     "name": "#%%\n"
    }
   },
   "outputs": [],
   "source": [
    "MY_API_KEY = \"INSERT_YOUR_API_KEY_HERE\" #TODO change this to your Climatiq API Key"
   ]
  },
  {
   "cell_type": "code",
   "execution_count": 34,
   "metadata": {
    "pycharm": {
     "name": "#%%\n"
    }
   },
   "outputs": [
    {
     "name": "stdout",
     "output_type": "stream",
     "text": [
      "Requirement already satisfied: requests in /opt/homebrew/lib/python3.11/site-packages (2.30.0)\n",
      "Requirement already satisfied: charset-normalizer<4,>=2 in /opt/homebrew/lib/python3.11/site-packages (from requests) (3.1.0)\n",
      "Requirement already satisfied: idna<4,>=2.5 in /opt/homebrew/lib/python3.11/site-packages (from requests) (3.4)\n",
      "Requirement already satisfied: urllib3<3,>=1.21.1 in /opt/homebrew/lib/python3.11/site-packages (from requests) (2.0.2)\n",
      "Requirement already satisfied: certifi>=2017.4.17 in /opt/homebrew/lib/python3.11/site-packages (from requests) (2023.5.7)\n",
      "\n",
      "\u001b[1m[\u001b[0m\u001b[34;49mnotice\u001b[0m\u001b[1;39;49m]\u001b[0m\u001b[39;49m A new release of pip available: \u001b[0m\u001b[31;49m22.3.1\u001b[0m\u001b[39;49m -> \u001b[0m\u001b[32;49m23.1.2\u001b[0m\n",
      "\u001b[1m[\u001b[0m\u001b[34;49mnotice\u001b[0m\u001b[1;39;49m]\u001b[0m\u001b[39;49m To update, run: \u001b[0m\u001b[32;49mpython3.11 -m pip install --upgrade pip\u001b[0m\n"
     ]
    }
   ],
   "source": [
    "# This block installs requests, which is a python library for doing http requests\n",
    "# Install requests using pip in the current python kernel\n",
    "# See https://jakevdp.github.io/blog/2017/12/05/installing-python-packages-from-jupyter/ for details\n",
    "# Note that if you are using conda you might need to uncomment the later line\n",
    "import sys\n",
    "!{sys.executable} -m pip install requests\n",
    "# Delete the above line, and uncomment the below line if you are using conda\n",
    "# !conda install --yes --prefix {sys.prefix} numpy\n",
    "\n",
    "import requests\n",
    "import pprint\n",
    "import json"
   ]
  },
  {
   "attachments": {},
   "cell_type": "markdown",
   "metadata": {
    "pycharm": {
     "name": "#%% md\n"
    }
   },
   "source": [
    "# Documentation\n",
    "This python notebook will mostly focus on some quick examples so you can get a feel for the API.\n",
    "If you'd like a little more introduction, check our out [quickstart guide](https://docs.climatiq.io/guides/quickstart)\n",
    "\n",
    "The notebook is tested using python3.10, but should work in python3.6 and above.\n",
    "\n",
    "We also won't cover everything the API can do in this notebook, but check out the [API documentation](https://docs.climatiq.io/) for a lot more comprehensive documentation."
   ]
  },
  {
   "attachments": {},
   "cell_type": "markdown",
   "metadata": {
    "pycharm": {
     "name": "#%% md\n"
    }
   },
   "source": [
    "# Searching\n",
    "If you need to figure out which emission factors are available, the easiest way is to try out our [Data Explorer](https://explorer.climatiq.io/) that allows you to search for, and filter emission factors based on sources, regions or free-text searching.\n",
    "\n",
    "We also have a `search` rendpoint available for searching. It will let you do free-text searching, and optionally filtering on sources, regions etc.\n",
    "See how to use it below."
   ]
  },
  {
   "cell_type": "code",
   "execution_count": 35,
   "metadata": {
    "pycharm": {
     "name": "#%%\n"
    }
   },
   "outputs": [
    {
     "name": "stdout",
     "output_type": "stream",
     "text": [
      "dict_keys(['current_page', 'last_page', 'total_results', 'results', 'possible_filters'])\n"
     ]
    },
    {
     "data": {
      "text/plain": [
       "[{'activity_id': 'electricity-supply_grid-source_residual_mix',\n",
       "  'id': '205cf321-ee05-46d3-aa20-b2046d96ab31',\n",
       "  'name': 'Electricity supplied from grid - residual mix',\n",
       "  'category': 'Electricity',\n",
       "  'sector': 'Energy',\n",
       "  'source': 'GHG Protocol',\n",
       "  'source_link': 'https://ghgprotocol.org/ghg-emissions-calculation-tool',\n",
       "  'source_dataset': 'GHG Emissions Calculation Tool',\n",
       "  'uncertainty': None,\n",
       "  'year': 2021,\n",
       "  'region': 'AT',\n",
       "  'region_name': 'Austria',\n",
       "  'description': 'Emission intensity of Austria grid mix as reported. Published by the Association of Issuing Bodies (AIB). Retrieved from European Residual Mixes 2018 v1.2 (published July 2019) - Table 2 - Direct GWP (gCO2/kWh). NOTE: this value is provided in CO2 only and does not include the impact of other GHGs. WARNING: The primary source does not report an emission factor for Austria on Table 2 in European Residual Mixes 2018 v1.2. This emission factor is retrieved from European Residual Mixes 2016 v1.2 (published June 2017) - Table 2 - Direct CO2 (gCO2/kWh). We have included this for completeness to retain consistency with the source. NOTE: This dataset has been deprecated by the source and will be removed soon.',\n",
       "  'unit_type': 'Energy',\n",
       "  'unit': 'kg/kWh',\n",
       "  'source_lca_activity': 'electricity_generation',\n",
       "  'data_quality_flags': ['partial_factor', 'notable_methodological_variance'],\n",
       "  'access_type': 'public',\n",
       "  'supported_calculation_methods': ['ar4', 'ar5'],\n",
       "  'factor': 0.54587,\n",
       "  'factor_calculation_method': 'ar5',\n",
       "  'factor_calculation_origin': 'source',\n",
       "  'constituent_gases': {'co2e_total': 0.54587,\n",
       "   'co2e_other': None,\n",
       "   'co2': 0.54587,\n",
       "   'ch4': None,\n",
       "   'n2o': None}},\n",
       " {'activity_id': 'electricity-supply_grid-source_production_mix',\n",
       "  'id': '21d5c0cf-53cd-486a-afe0-a22767bc87ad',\n",
       "  'name': 'Electricity supplied from grid - production mix',\n",
       "  'category': 'Electricity',\n",
       "  'sector': 'Energy',\n",
       "  'source': 'AIB',\n",
       "  'source_link': 'https://www.aib-net.org/facts/european-residual-mix/2016',\n",
       "  'source_dataset': 'European Residual Mix',\n",
       "  'uncertainty': None,\n",
       "  'year': 2016,\n",
       "  'region': 'AT',\n",
       "  'region_name': 'Austria',\n",
       "  'description': 'Emission intensity of production mix as reported. Published by the Association of Issuing Bodies (AIB). Retrieved from 2016 European Residual Mix Report. NOTE: this value is provided in CO2 only and does not include the impact of other GHGs.',\n",
       "  'unit_type': 'Energy',\n",
       "  'unit': 'kg/kWh',\n",
       "  'source_lca_activity': 'electricity_generation',\n",
       "  'data_quality_flags': ['partial_factor'],\n",
       "  'access_type': 'public',\n",
       "  'supported_calculation_methods': ['ar4'],\n",
       "  'factor': 0.139,\n",
       "  'factor_calculation_method': 'ar4',\n",
       "  'factor_calculation_origin': 'source',\n",
       "  'constituent_gases': {'co2e_total': 0.139,\n",
       "   'co2e_other': None,\n",
       "   'co2': None,\n",
       "   'ch4': None,\n",
       "   'n2o': None}},\n",
       " {'activity_id': 'electricity-supply_grid-source_production_mix',\n",
       "  'id': 'ee5c68b3-934d-4e56-892b-4644bd9e6a70',\n",
       "  'name': 'Electricity supplied from grid - production mix',\n",
       "  'category': 'Electricity',\n",
       "  'sector': 'Energy',\n",
       "  'source': 'AIB',\n",
       "  'source_link': 'https://www.aib-net.org/facts/european-residual-mix/2017',\n",
       "  'source_dataset': 'European Residual Mix',\n",
       "  'uncertainty': None,\n",
       "  'year': 2017,\n",
       "  'region': 'AT',\n",
       "  'region_name': 'Austria',\n",
       "  'description': 'Emission intensity of production mix as reported. Published by the Association of Issuing Bodies (AIB). Retrieved from 2017 European Residual Mix Report. NOTE: this value is provided in CO2 only and does not include the impact of other GHGs.',\n",
       "  'unit_type': 'Energy',\n",
       "  'unit': 'kg/kWh',\n",
       "  'source_lca_activity': 'electricity_generation',\n",
       "  'data_quality_flags': ['partial_factor'],\n",
       "  'access_type': 'public',\n",
       "  'supported_calculation_methods': ['ar4'],\n",
       "  'factor': 0.148,\n",
       "  'factor_calculation_method': 'ar4',\n",
       "  'factor_calculation_origin': 'source',\n",
       "  'constituent_gases': {'co2e_total': 0.148,\n",
       "   'co2e_other': None,\n",
       "   'co2': None,\n",
       "   'ch4': None,\n",
       "   'n2o': None}}]"
      ]
     },
     "execution_count": 35,
     "metadata": {},
     "output_type": "execute_result"
    }
   ],
   "source": [
    "url = \"https://beta4.api.climatiq.io/search\"\n",
    "query=\"grid mix\"\n",
    "\n",
    "query_params = {\n",
    "    # Free text query can be writen under the query string\n",
    "    \"query\": query,\n",
    "    # You can also filter on region, year, source and more\n",
    "    \"region\": \"AT\",\n",
    "    # The Climatiq emission factors are versioned.\n",
    "    # The string below means \"major version 1 compatible\", which means we stay on major version 1 of the data\n",
    "    # but get new emission factors as they are available\n",
    "    # Check out the documentation for more information about data versioning\n",
    "    \"data_version\": \"^1\",\n",
    "}\n",
    "\n",
    "# You must always specify your AUTH token in the \"Authorization\" header like this.\n",
    "authorization_headers = {\"Authorization\": f\"Bearer: {MY_API_KEY}\"}\n",
    "\n",
    "\n",
    "search_response = requests.get(url, params=query_params, headers=authorization_headers).json()\n",
    "# The search endpoint returns a lot of stuff - here are the keys\n",
    "print(search_response.keys())\n",
    "\n",
    "# The most relevant is probably the results - here are the first three results\n",
    "search_response[\"results\"][0:3]"
   ]
  },
  {
   "attachments": {},
   "cell_type": "markdown",
   "metadata": {
    "pycharm": {
     "name": "#%% md\n"
    }
   },
   "source": [
    "# Estimates\n",
    "Climatiq allows you to perform estimates based on an emission factor. You specify the emission factor using an activity id, and optionally filtering on region, year or other things.\n",
    "The following code snippet will make an estimation of how much CO2e the power grid in Austria emits, for a certain amount of power generated. \n",
    "We will be using the `/estimate` endpoint. For a more comprehensive documentation about this endpoint, [click here](https://docs.climatiq.io/#estimate)"
   ]
  },
  {
   "cell_type": "code",
   "execution_count": 36,
   "metadata": {
    "pycharm": {
     "name": "#%%\n"
    }
   },
   "outputs": [
    {
     "name": "stdout",
     "output_type": "stream",
     "text": [
      "{'activity_data': {'activity_unit': 'kWh', 'activity_value': 100.0},\n",
      " 'audit_trail': 'selector',\n",
      " 'co2e': 54.586999999999996,\n",
      " 'co2e_calculation_method': 'ar5',\n",
      " 'co2e_calculation_origin': 'source',\n",
      " 'co2e_unit': 'kg',\n",
      " 'constituent_gases': {'ch4': None,\n",
      "                       'co2': 54.586999999999996,\n",
      "                       'co2e_other': None,\n",
      "                       'co2e_total': 54.586999999999996,\n",
      "                       'n2o': None},\n",
      " 'emission_factor': {'access_type': 'public',\n",
      "                     'activity_id': 'electricity-supply_grid-source_residual_mix',\n",
      "                     'category': 'Electricity',\n",
      "                     'data_quality_flags': ['partial_factor',\n",
      "                                            'notable_methodological_variance'],\n",
      "                     'id': '205cf321-ee05-46d3-aa20-b2046d96ab31',\n",
      "                     'name': 'Electricity supplied from grid - residual mix',\n",
      "                     'region': 'AT',\n",
      "                     'source': 'GHG Protocol',\n",
      "                     'source_dataset': 'GHG Emissions Calculation Tool',\n",
      "                     'source_lca_activity': 'electricity_generation',\n",
      "                     'year': 2021}}\n"
     ]
    }
   ],
   "source": [
    "# The id for the emission factor. Found via the data explorer or the search endpoint\n",
    "# In our case, we take the first activity ID from our search above\n",
    "activity_id = search_response[\"results\"][0][\"activity_id\"]\n",
    "# We have many regions with the same activity id, representing the power grid in different countries.\n",
    "# We'd like to get the power for Australia specifically, so we will need to specify a region. We do this by specifying the UN location code for the region\n",
    "# You can also see the region for different emission factors in the data explorer\n",
    "region = \"AT\"\n",
    "\n",
    "# We must also specify how much electricity generation we would like to make the estimation for.\n",
    "# In this case we will do it for 100kilowattt-hours. \n",
    "# Different emission factors have different requirement as to what units they support estimates for\n",
    "# You can see the units supported by an emission factor in the data explorer, and find more documentation about units\n",
    "# in the API documentation.\n",
    "parameters = {\n",
    "        \"energy\": 100,\n",
    "        \"energy_unit\": \"kWh\"\n",
    "    }\n",
    "\n",
    "json_body = {\n",
    "    \"emission_factor\": {\n",
    "        \"activity_id\": activity_id,\n",
    "        \"region\": region,\n",
    "        \"data_version\": \"^1\"\n",
    "        # More filters are possible here. See the full documentation for more options\n",
    "    },\n",
    "    # Specify how much energy we're estimating for\n",
    "    \"parameters\": parameters\n",
    "}\n",
    "\n",
    "# You must always specify your AUTH token in the \"Authorization\" header like this.\n",
    "authorization_headers = {\"Authorization\": f\"Bearer: {MY_API_KEY}\"}\n",
    "\n",
    "# We send a POST request to the estimate endpoint with a json body and the correct authorization headers\n",
    "response = requests.post(\"https://beta4.api.climatiq.io/estimate\", json=json_body, headers=authorization_headers)\n",
    "# The response is also json.\n",
    "pprint.pprint(response.json())\n",
    "\n"
   ]
  },
  {
   "attachments": {},
   "cell_type": "markdown",
   "metadata": {
    "pycharm": {
     "name": "#%% md\n"
    }
   },
   "source": [
    "# Estimate response\n",
    "As you can see above, the estimate response is a JSON response that consists of three parts:\n",
    "- The outermost part, which is the emissions for your estimation\n",
    "- The `constituent_gases` which is additional information the source provides (if any) about what other greenhouse gases are emitted. You shouldn't worry too much about this field unless you know you need this.\n",
    "- The `emission_factor`, which is Climatiq specifying what emission factor was used. You can see that the `id` and the `region` matches what we specified in our API call.\n"
   ]
  },
  {
   "attachments": {},
   "cell_type": "markdown",
   "metadata": {
    "pycharm": {
     "name": "#%% md\n"
    }
   },
   "source": [
    "# Batch estimate\n",
    "The Climatiq API is very fast, but if you have a lot of data it might be problematic to make an API call for every estimation. Climatiq has a batch endpoint where you can make up to 100 estimations per API call.\n",
    "It will return a result for each estimation in the same order that the estimates were sent.\n",
    "[More details about the batch estimate endpoint here](https://docs.climatiq.io/#batch-estimations)\n",
    "\n",
    "Below we will make three estimations with the same emission factor, but different energy amounts"
   ]
  },
  {
   "cell_type": "code",
   "execution_count": 37,
   "metadata": {
    "pycharm": {
     "name": "#%%\n"
    }
   },
   "outputs": [
    {
     "data": {
      "text/plain": [
       "{'results': [{'co2e': 5.458699999999999,\n",
       "   'co2e_unit': 'kg',\n",
       "   'co2e_calculation_method': 'ar5',\n",
       "   'co2e_calculation_origin': 'source',\n",
       "   'emission_factor': {'name': 'Electricity supplied from grid - residual mix',\n",
       "    'activity_id': 'electricity-supply_grid-source_residual_mix',\n",
       "    'id': '205cf321-ee05-46d3-aa20-b2046d96ab31',\n",
       "    'access_type': 'public',\n",
       "    'source': 'GHG Protocol',\n",
       "    'source_dataset': 'GHG Emissions Calculation Tool',\n",
       "    'year': 2021,\n",
       "    'region': 'AT',\n",
       "    'category': 'Electricity',\n",
       "    'source_lca_activity': 'electricity_generation',\n",
       "    'data_quality_flags': ['partial_factor',\n",
       "     'notable_methodological_variance']},\n",
       "   'constituent_gases': {'co2e_total': 5.458699999999999,\n",
       "    'co2e_other': None,\n",
       "    'co2': 5.458699999999999,\n",
       "    'ch4': None,\n",
       "    'n2o': None},\n",
       "   'activity_data': {'activity_value': 10.0, 'activity_unit': 'kWh'},\n",
       "   'audit_trail': 'selector'},\n",
       "  {'co2e': 54.586999999999996,\n",
       "   'co2e_unit': 'kg',\n",
       "   'co2e_calculation_method': 'ar5',\n",
       "   'co2e_calculation_origin': 'source',\n",
       "   'emission_factor': {'name': 'Electricity supplied from grid - residual mix',\n",
       "    'activity_id': 'electricity-supply_grid-source_residual_mix',\n",
       "    'id': '205cf321-ee05-46d3-aa20-b2046d96ab31',\n",
       "    'access_type': 'public',\n",
       "    'source': 'GHG Protocol',\n",
       "    'source_dataset': 'GHG Emissions Calculation Tool',\n",
       "    'year': 2021,\n",
       "    'region': 'AT',\n",
       "    'category': 'Electricity',\n",
       "    'source_lca_activity': 'electricity_generation',\n",
       "    'data_quality_flags': ['partial_factor',\n",
       "     'notable_methodological_variance']},\n",
       "   'constituent_gases': {'co2e_total': 54.586999999999996,\n",
       "    'co2e_other': None,\n",
       "    'co2': 54.586999999999996,\n",
       "    'ch4': None,\n",
       "    'n2o': None},\n",
       "   'activity_data': {'activity_value': 100.0, 'activity_unit': 'kWh'},\n",
       "   'audit_trail': 'selector'}]}"
      ]
     },
     "execution_count": 37,
     "metadata": {},
     "output_type": "execute_result"
    }
   ],
   "source": [
    "parameters = {\n",
    "        \"energy\": 100,\n",
    "        \"energy_unit\": \"kWh\"\n",
    "    }\n",
    "\n",
    "# Notice that the JSON body here is an array, with each entry being an estimate\n",
    "json_body = [\n",
    "{\n",
    "    \"emission_factor\": {\n",
    "        # Using the same activity ID and region as before\n",
    "        \"activity_id\": activity_id,\n",
    "        \"region\": region,\n",
    "        \"data_version\": \"^1\"\n",
    "    },\n",
    "    \"parameters\": {\n",
    "        \"energy\": 10,\n",
    "        \"energy_unit\": \"kWh\"\n",
    "    }\n",
    "},\n",
    "{\n",
    "    \"emission_factor\": {\n",
    "        # Using the same activity ID and region as before\n",
    "        \"activity_id\": activity_id,\n",
    "        \"region\": region,\n",
    "        \"data_version\": \"^1\"\n",
    "    },\n",
    "    \"parameters\": {\n",
    "        \"energy\": 100,\n",
    "        \"energy_unit\": \"kWh\"\n",
    "    }\n",
    "}\n",
    "]\n",
    "\n",
    "# You must always specify your AUTH token in the \"Authorization\" header like this.\n",
    "authorization_headers = {\"Authorization\": f\"Bearer: {MY_API_KEY}\"}\n",
    "\n",
    "# We send a POST request to the /batch endpoint with a json body and the correct authorization headers\n",
    "response = requests.post(\"https://beta4.api.climatiq.io/batch\", json=json_body, headers=authorization_headers)\n",
    "# The response is also json.\n",
    "response.json()\n",
    "\n"
   ]
  },
  {
   "attachments": {},
   "cell_type": "markdown",
   "metadata": {},
   "source": [
    "# Industry classification estimate\n",
    "\n",
    "If your data comes with an industry specification code Climatiq API allows you to query emission factors, based on their NACE or ISIC industry classification codes. At the moment this endpoint works only with spend-based datasets, in particular EXIOBASE and GHG Protocol. \n",
    "[More details about the industry classification estimate endpoint here](https://www.climatiq.io/docs#classifications) \n",
    "\n",
    "** Note that access to this feature requires"
   ]
  },
  {
   "cell_type": "code",
   "execution_count": null,
   "metadata": {},
   "outputs": [],
   "source": [
    "url = \"https://beta4.api.climatiq.io/classifications/estimate\"\n",
    "\n",
    "data = {\n",
    "        \"classification\": {\n",
    "        \"classification_type\": \"nace2\", # here add your classification type, at the momement it will be either nace2, isic4 or mcc\n",
    "        \"classification_code\": \"YOUR_CODE_HERE\", # here add a code from your classification, e.g. for nace2 1.11 you would add 1.11 - note that the value has to be a string\n",
    "        \"source\": \"EXIOBASE\", # choose the desired source - at them momement, only EXIOBASE and GHG Protocol data are mapped to the industry classification codes\n",
    "        # You can also filter by year, region etc, like with regular selectors\n",
    "    },\n",
    "    \"parameters\": {\n",
    "        \"money\": 3000,  # provide amount of money spend on the specific activity\n",
    "        \"money_unit\": \"usd\" # choose currency, currently we support more than 30 currencies - please check the documentation\n",
    "    }\n",
    "}\n",
    "response = requests.post(url,headers=authorization_headers,json=data) # this establishes connection to the API\n",
    "response_data = json.loads(response.text) # this line queries the data\n",
    "\n",
    "pprint.pprint(response_data)\n",
    "\n",
    "try:\n",
    "    # You could create a pandas dataframe out of the API response if you have pandas installed\n",
    "    import pandas as pd\n",
    "    pd.json_normalize(response_data) # you could create a pandas library dataframe out of the API response \n",
    "except ImportError:\n",
    "    print(\"Pandas not installed, won't try to create dataframe\") # Pandas is a heavy dependency, so if you don't already have it, we won't install it.\n"
   ]
  },
  {
   "attachments": {},
   "cell_type": "markdown",
   "metadata": {
    "pycharm": {
     "name": "#%% md\n"
    }
   },
   "source": [
    "# Moving on\n",
    "Climatiq has much more to offer, such as:\n",
    "- Over 12.000 emission factors covering purchsaes, fuel, accomodation, different travel modes, waste processing [and more](https://docs.climatiq.io/#examples).\n",
    "- Estimating based on [flight routes](https://docs.climatiq.io/#flights)\n",
    "- Estimating the emissions of [cloud compute usage](https://docs.climatiq.io/#cloud-computing)\n",
    "- Estimating by using industry classification codes such as ISIC or NAICS"
   ]
  }
 ],
 "metadata": {
  "interpreter": {
   "hash": "e7370f93d1d0cde622a1f8e1c04877d8463912d04d973331ad4851f04de6915a"
  },
  "kernelspec": {
   "display_name": "Python 3.10.2 64-bit",
   "language": "python",
   "name": "python3"
  },
  "language_info": {
   "codemirror_mode": {
    "name": "ipython",
    "version": 3
   },
   "file_extension": ".py",
   "mimetype": "text/x-python",
   "name": "python",
   "nbconvert_exporter": "python",
   "pygments_lexer": "ipython3",
   "version": "3.11.2"
  },
  "orig_nbformat": 4
 },
 "nbformat": 4,
 "nbformat_minor": 2
}
