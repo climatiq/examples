{
 "cells": [
  {
   "cell_type": "markdown",
   "metadata": {
    "pycharm": {
     "name": "#%% md\n"
    }
   },
   "source": [
    "# Climatiq notebook examples\n",
    "[Climatiq](https://climatiq.io/) provides an API to help you estimate how much greenhouse gasses your activities emit, based on validated conversion factors known as “emission factors.”  \n",
    "An emission factor is a way to convert different human activities into greenhouse gases.\n",
    "It will take that human activity and estimate how much CO2 equivalent (abbreviated CO2e, usually expressed in kilograms), that activity will emit.\n",
    "\n",
    "Different emission factors can help us answer questions like:\n",
    "- How much CO2e is emitted taking the train from Paris to Berlin?\n",
    "- How much CO2e is emitted spending $1,000 on soft drinks in the US?\n",
    "- How much CO2e is emitted staying a night at a hotel in China?\n",
    "\n",
    "Climatiq has a wide variety of emission factors available, that you can browse in our [Data Explorer](https://explorer.climatiq.io/), to get a feel for the sort of questions Climatiq can help you answer."
   ]
  },
  {
   "cell_type": "markdown",
   "metadata": {
    "pycharm": {
     "name": "#%% md\n"
    }
   },
   "source": [
    "# API Key\n",
    "All calls to the Climatiq API require that you have an account and that you send your API key. Signing up is free and takes only a few minutes.\n",
    "\n",
    "[Click here](https://docs.climatiq.io/guides/getting-api-key) to see how to sign up and get your API key, which you should input below."
   ]
  },
  {
   "cell_type": "code",
   "execution_count": 50,
   "metadata": {
    "collapsed": false,
    "pycharm": {
     "name": "#%%\n"
    },
    "ExecuteTime": {
     "end_time": "2024-02-06T14:06:03.420403Z",
     "start_time": "2024-02-06T14:06:03.407669Z"
    }
   },
   "outputs": [],
   "source": [
    "MY_API_KEY = \"INSERT_YOUR_API_KEY_HERE\" #TODO change this to your Climatiq API Key"
   ]
  },
  {
   "cell_type": "code",
   "execution_count": 51,
   "metadata": {
    "pycharm": {
     "name": "#%%\n"
    },
    "ExecuteTime": {
     "end_time": "2024-02-06T14:06:04.843466Z",
     "start_time": "2024-02-06T14:06:03.411138Z"
    }
   },
   "outputs": [
    {
     "name": "stdout",
     "output_type": "stream",
     "text": [
      "Defaulting to user installation because normal site-packages is not writeable\r\n",
      "Requirement already satisfied: requests in /Users/gustavwengel/Library/Python/3.9/lib/python/site-packages (2.28.1)\r\n",
      "Requirement already satisfied: charset-normalizer<3,>=2 in /Users/gustavwengel/Library/Python/3.9/lib/python/site-packages (from requests) (2.1.0)\r\n",
      "Requirement already satisfied: idna<4,>=2.5 in /Users/gustavwengel/Library/Python/3.9/lib/python/site-packages (from requests) (3.3)\r\n",
      "Requirement already satisfied: urllib3<1.27,>=1.21.1 in /Users/gustavwengel/Library/Python/3.9/lib/python/site-packages (from requests) (1.26.11)\r\n",
      "Requirement already satisfied: certifi>=2017.4.17 in /Users/gustavwengel/Library/Python/3.9/lib/python/site-packages (from requests) (2022.6.15)\r\n"
     ]
    }
   ],
   "source": [
    "# This block installs requests, which is a python library for doing http requests\n",
    "# Install requests using pip in the current python kernel\n",
    "# See https://jakevdp.github.io/blog/2017/12/05/installing-python-packages-from-jupyter/ for details\n",
    "# Note that if you are using conda you might need to uncomment the later line\n",
    "import sys\n",
    "!{sys.executable} -m pip install requests\n",
    "# Delete the above line, and uncomment the below line if you are using conda\n",
    "# !conda install --yes --prefix {sys.prefix} numpy\n",
    "\n",
    "import requests\n",
    "import pprint\n",
    "import json"
   ]
  },
  {
   "cell_type": "markdown",
   "metadata": {
    "pycharm": {
     "name": "#%% md\n"
    }
   },
   "source": [
    "# Documentation\n",
    "This python notebook will mostly focus on some quick examples so you can get a feel for the API.\n",
    "If you'd like a little more introduction, check our out [quickstart guide](https://docs.climatiq.io/guides/quickstart)\n",
    "\n",
    "The notebook is tested using python3.10, but should work in python3.6 and above.\n",
    "\n",
    "We also won't cover everything the API can do in this notebook, but check out the [API documentation](https://docs.climatiq.io/) for a lot more comprehensive documentation."
   ]
  },
  {
   "cell_type": "markdown",
   "metadata": {
    "pycharm": {
     "name": "#%% md\n"
    }
   },
   "source": [
    "# Searching\n",
    "If you need to figure out which emission factors are available, the easiest way is to try out our [Data Explorer](https://explorer.climatiq.io/) that allows you to search for, and filter emission factors based on sources, regions or free-text searching.\n",
    "\n",
    "We also have a `search` rendpoint available for searching. It will let you do free-text searching, and optionally filtering on sources, regions etc.\n",
    "See how to use it below."
   ]
  },
  {
   "cell_type": "code",
   "execution_count": 52,
   "metadata": {
    "pycharm": {
     "name": "#%%\n"
    },
    "ExecuteTime": {
     "end_time": "2024-02-06T14:06:05.209705Z",
     "start_time": "2024-02-06T14:06:04.846411Z"
    }
   },
   "outputs": [
    {
     "name": "stdout",
     "output_type": "stream",
     "text": [
      "dict_keys(['current_page', 'last_page', 'total_results', 'results', 'possible_filters'])\n"
     ]
    },
    {
     "data": {
      "text/plain": "[{'activity_id': 'electricity-supply_grid-source_residual_mix',\n  'id': '9cc29d60-228c-4e33-89f8-b422b70c6ee9',\n  'name': 'Electricity supplied from grid - residual mix',\n  'category': 'Electricity',\n  'sector': 'Energy',\n  'source': 'GHG Protocol',\n  'source_link': 'https://ghgprotocol.org/sites/default/files/GHG%20Emissions%20Calculation%20Tool_0.xlsx',\n  'source_dataset': 'GHG Emissions Calculation Tool',\n  'uncertainty': None,\n  'year': 2021,\n  'year_released': 2021,\n  'region': 'AT',\n  'region_name': 'Austria',\n  'description': 'Emission intensity of Austria grid mix as reported. Published by the Association of Issuing Bodies (AIB). Retrieved from European Residual Mixes 2018 v1.2 (published July 2019) - Table 2 - Direct GWP (gCO2/kWh). NOTE: this value is provided in CO2 only and does not include the impact of other GHGs. WARNING: The primary source does not report an emission factor for Austria on Table 2 in European Residual Mixes 2018 v1.2. This emission factor is retrieved from European Residual Mixes 2016 v1.2 (published June 2017) - Table 2 - Direct CO2 (gCO2/kWh). We have included this for completeness to retain consistency with the source. NOTE: This dataset has been deprecated by the source and will be removed soon.',\n  'unit_type': 'Energy',\n  'unit': 'kg/kWh',\n  'source_lca_activity': 'electricity_generation',\n  'data_quality_flags': ['partial_factor', 'notable_methodological_variance'],\n  'access_type': 'public',\n  'supported_calculation_methods': ['ar4', 'ar5'],\n  'factor': 0.5459,\n  'factor_calculation_method': 'ar5',\n  'factor_calculation_origin': 'source',\n  'constituent_gases': {'co2e_total': 0.5459,\n   'co2e_other': None,\n   'co2': 0.5459,\n   'ch4': None,\n   'n2o': None}},\n {'activity_id': 'electricity-supply_grid-source_production_mix',\n  'id': 'a00700d5-eaa5-455f-998d-f1495b09edd8',\n  'name': 'Electricity supplied from grid - production mix',\n  'category': 'Electricity',\n  'sector': 'Energy',\n  'source': 'AIB',\n  'source_link': 'https://www.aib-net.org/facts/european-residual-mix/2016',\n  'source_dataset': 'European Residual Mix',\n  'uncertainty': None,\n  'year': 2016,\n  'year_released': 2017,\n  'region': 'AT',\n  'region_name': 'Austria',\n  'description': 'Emission intensity of production mix as reported. Published by the Association of Issuing Bodies (AIB). Retrieved from 2016 European Residual Mix Report. NOTE: this value is provided in CO2 only and does not include the impact of other GHGs. The source does not clarify if the kgCO2e value is calculated using either IPCC Fourth Assessment Report (AR4) or IPCC Fifth Assessment Report (AR5) methodologies.',\n  'unit_type': 'Energy',\n  'unit': 'kg/kWh',\n  'source_lca_activity': 'electricity_generation',\n  'data_quality_flags': ['partial_factor', 'notable_methodological_variance'],\n  'access_type': 'public',\n  'supported_calculation_methods': ['ar4'],\n  'factor': 0.139,\n  'factor_calculation_method': 'ar4',\n  'factor_calculation_origin': 'source',\n  'constituent_gases': {'co2e_total': 0.139,\n   'co2e_other': None,\n   'co2': None,\n   'ch4': None,\n   'n2o': None}},\n {'activity_id': 'electricity-supply_grid-source_production_mix',\n  'id': '5cdacb11-13d0-4faf-9e84-1418fe06221a',\n  'name': 'Electricity supplied from grid - production mix',\n  'category': 'Electricity',\n  'sector': 'Energy',\n  'source': 'AIB',\n  'source_link': 'https://www.aib-net.org/facts/european-residual-mix/2017',\n  'source_dataset': 'European Residual Mix',\n  'uncertainty': None,\n  'year': 2017,\n  'year_released': 2018,\n  'region': 'AT',\n  'region_name': 'Austria',\n  'description': 'Emission intensity of production mix as reported. Published by the Association of Issuing Bodies (AIB). Retrieved from 2017 European Residual Mix Report. NOTE: this value is provided in CO2 only and does not include the impact of other GHGs. The source does not clarify if the kgCO2e value is calculated using either IPCC Fourth Assessment Report (AR4) or IPCC Fifth Assessment Report (AR5) methodologies.',\n  'unit_type': 'Energy',\n  'unit': 'kg/kWh',\n  'source_lca_activity': 'electricity_generation',\n  'data_quality_flags': ['partial_factor', 'notable_methodological_variance'],\n  'access_type': 'public',\n  'supported_calculation_methods': ['ar4'],\n  'factor': 0.148,\n  'factor_calculation_method': 'ar4',\n  'factor_calculation_origin': 'source',\n  'constituent_gases': {'co2e_total': 0.148,\n   'co2e_other': None,\n   'co2': None,\n   'ch4': None,\n   'n2o': None}}]"
     },
     "execution_count": 52,
     "metadata": {},
     "output_type": "execute_result"
    }
   ],
   "source": [
    "url = \"https://api.climatiq.io/data/v1/search\"\n",
    "query=\"grid mix\"\n",
    "\n",
    "query_params = {\n",
    "    # Free text query can be writen under the query string\n",
    "    \"query\": query,\n",
    "    # You can also filter on region, year, source and more\n",
    "    \"region\": \"AT\",\n",
    "    # The data in the Climatiq API is versioned, to ensure\n",
    "    # predictability of results. Read more about this in the docs.\n",
    "    \"data_version\": \"^9\",\n",
    "}\n",
    "\n",
    "# You must always specify your AUTH token in the \"Authorization\" header like this.\n",
    "authorization_headers = {\"Authorization\": f\"Bearer: {MY_API_KEY}\"}\n",
    "\n",
    "response = requests.get(url, params=query_params, headers=authorization_headers).json()\n",
    "# The search endpoint returns a lot of stuff - here are the keys\n",
    "print(response.keys())\n",
    "\n",
    "# The most relevant is probably the results - here are the first three results\n",
    "response[\"results\"][0:3]"
   ]
  },
  {
   "cell_type": "markdown",
   "metadata": {
    "pycharm": {
     "name": "#%% md\n"
    }
   },
   "source": [
    "# Estimates\n",
    "Climatiq allows you to perform estimates based on an emission factor. You specify the emission factor using an activity id, and optionally filtering on region, year or other things.\n",
    "The following code snippet will make an estimation of how much CO2e the power grid in Austria emits, for a certain amount of power generated. \n",
    "We will be using the `/estimate` endpoint. For a more comprehensive documentation about this endpoint, [click here](https://docs.climatiq.io/#estimate)"
   ]
  },
  {
   "cell_type": "code",
   "execution_count": 53,
   "metadata": {
    "pycharm": {
     "name": "#%%\n"
    },
    "ExecuteTime": {
     "end_time": "2024-02-06T14:06:05.372153Z",
     "start_time": "2024-02-06T14:06:05.209465Z"
    }
   },
   "outputs": [
    {
     "name": "stdout",
     "output_type": "stream",
     "text": [
      "{'activity_data': {'activity_unit': 'kWh', 'activity_value': 100.0},\n",
      " 'audit_trail': 'selector',\n",
      " 'co2e': 54.59,\n",
      " 'co2e_calculation_method': 'ar5',\n",
      " 'co2e_calculation_origin': 'source',\n",
      " 'co2e_unit': 'kg',\n",
      " 'constituent_gases': {'ch4': None,\n",
      "                       'co2': 54.59,\n",
      "                       'co2e_other': None,\n",
      "                       'co2e_total': 54.59,\n",
      "                       'n2o': None},\n",
      " 'emission_factor': {'access_type': 'public',\n",
      "                     'activity_id': 'electricity-supply_grid-source_residual_mix',\n",
      "                     'category': 'Electricity',\n",
      "                     'data_quality_flags': ['partial_factor',\n",
      "                                            'notable_methodological_variance'],\n",
      "                     'id': '9cc29d60-228c-4e33-89f8-b422b70c6ee9',\n",
      "                     'name': 'Electricity supplied from grid - residual mix',\n",
      "                     'region': 'AT',\n",
      "                     'source': 'GHG Protocol',\n",
      "                     'source_dataset': 'GHG Emissions Calculation Tool',\n",
      "                     'source_lca_activity': 'electricity_generation',\n",
      "                     'year': 2021}}\n"
     ]
    }
   ],
   "source": [
    "# The id for the emission factor. Found via the data explorer or the search endpoint\n",
    "activity_id = \"electricity-supply_grid-source_residual_mix\"\n",
    "# We have many regions with the same activity id, representing the power grid in different countries.\n",
    "# We'd like to get the power for Australia specifically, so we will need to specify a region. We do this by specifying the UN location code for the region\n",
    "# You can also see the region for different emission factors in the data explorer\n",
    "region = \"AT\"\n",
    "\n",
    "# We must also specify how much electricity generation we would like to make the estimation for.\n",
    "# In this case we will do it for 100kilowattt-hours. \n",
    "# Different emission factors have different requirement as to what units they support estimates for\n",
    "# You can see the units supported by an emission factor in the data explorer, and find more documentation about units\n",
    "# in the API documentation.\n",
    "parameters = {\n",
    "        \"energy\": 100,\n",
    "        \"energy_unit\": \"kWh\"\n",
    "    }\n",
    "\n",
    "json_body = {\n",
    "    \"emission_factor\": {\n",
    "        \"activity_id\": activity_id,\n",
    "        \"region\": region,\n",
    "        \"data_version\": \"^9\"\n",
    "        # More filters are possible here. See the full documentation for more options\n",
    "    },\n",
    "    # Specify how much energy we're estimating for\n",
    "    \"parameters\": parameters\n",
    "}\n",
    "\n",
    "# You must always specify your AUTH token in the \"Authorization\" header like this.\n",
    "authorization_headers = {\"Authorization\": f\"Bearer: {MY_API_KEY}\"}\n",
    "\n",
    "# We send a POST request to the estimate endpoint with a json body and the correct authorization headers\n",
    "response = requests.post(\"https://api.climatiq.io/data/v1/estimate\", json=json_body, headers=authorization_headers)\n",
    "# The response is also json.\n",
    "pprint.pprint(response.json())\n",
    "\n"
   ]
  },
  {
   "cell_type": "markdown",
   "metadata": {
    "pycharm": {
     "name": "#%% md\n"
    }
   },
   "source": [
    "# Estimate response\n",
    "As you can see above, the estimate response is a JSON response that consists of three parts:\n",
    "- The outermost part, which is the emissions for your estimation\n",
    "- The `constituent_gases` which is additional information the source provides (if any) about what other greenhouse gases are emitted. You shouldn't worry too much about this field unless you know you need this.\n",
    "- The `emission_factor`, which is Climatiq specifying what emission factor was used. You can see that the `id` and the `region` matches what we specified in our API call.\n"
   ]
  },
  {
   "cell_type": "markdown",
   "metadata": {
    "pycharm": {
     "name": "#%% md\n"
    }
   },
   "source": [
    "# Batch estimate\n",
    "The Climatiq API is very fast, but if you have a lot of data it might be problematic to make an API call for every estimation. Climatiq has a batch endpoint where you can make up to 100 estimations per API call.\n",
    "It will return a result for each estimation in the same order that the estimates were sent.\n",
    "[More details about the batch estimate endpoint here](https://docs.climatiq.io/#batch-estimations)\n",
    "\n",
    "Below we will make three estimations with the same emission factor, but different energy amounts"
   ]
  },
  {
   "cell_type": "code",
   "execution_count": 54,
   "metadata": {
    "pycharm": {
     "name": "#%%\n"
    },
    "ExecuteTime": {
     "end_time": "2024-02-06T14:06:05.502427Z",
     "start_time": "2024-02-06T14:06:05.373861Z"
    }
   },
   "outputs": [
    {
     "data": {
      "text/plain": "{'results': [{'co2e': 5.459,\n   'co2e_unit': 'kg',\n   'co2e_calculation_method': 'ar5',\n   'co2e_calculation_origin': 'source',\n   'emission_factor': {'name': 'Electricity supplied from grid - residual mix',\n    'activity_id': 'electricity-supply_grid-source_residual_mix',\n    'id': '9cc29d60-228c-4e33-89f8-b422b70c6ee9',\n    'access_type': 'public',\n    'source': 'GHG Protocol',\n    'source_dataset': 'GHG Emissions Calculation Tool',\n    'year': 2021,\n    'region': 'AT',\n    'category': 'Electricity',\n    'source_lca_activity': 'electricity_generation',\n    'data_quality_flags': ['partial_factor',\n     'notable_methodological_variance']},\n   'constituent_gases': {'co2e_total': 5.459,\n    'co2e_other': None,\n    'co2': 5.459,\n    'ch4': None,\n    'n2o': None},\n   'activity_data': {'activity_value': 10.0, 'activity_unit': 'kWh'},\n   'audit_trail': 'selector'},\n  {'co2e': 54.59,\n   'co2e_unit': 'kg',\n   'co2e_calculation_method': 'ar5',\n   'co2e_calculation_origin': 'source',\n   'emission_factor': {'name': 'Electricity supplied from grid - residual mix',\n    'activity_id': 'electricity-supply_grid-source_residual_mix',\n    'id': '9cc29d60-228c-4e33-89f8-b422b70c6ee9',\n    'access_type': 'public',\n    'source': 'GHG Protocol',\n    'source_dataset': 'GHG Emissions Calculation Tool',\n    'year': 2021,\n    'region': 'AT',\n    'category': 'Electricity',\n    'source_lca_activity': 'electricity_generation',\n    'data_quality_flags': ['partial_factor',\n     'notable_methodological_variance']},\n   'constituent_gases': {'co2e_total': 54.59,\n    'co2e_other': None,\n    'co2': 54.59,\n    'ch4': None,\n    'n2o': None},\n   'activity_data': {'activity_value': 100.0, 'activity_unit': 'kWh'},\n   'audit_trail': 'selector'}]}"
     },
     "execution_count": 54,
     "metadata": {},
     "output_type": "execute_result"
    }
   ],
   "source": [
    "activity_id = \"electricity-supply_grid-source_residual_mix\"\n",
    "region = \"AT\"\n",
    "data_version = \"^9\"\n",
    "\n",
    "parameters = {\n",
    "        \"energy\": 100,\n",
    "        \"energy_unit\": \"kWh\"\n",
    "    }\n",
    "\n",
    "# Notice that the JSON body here is an array, with each entry being an estimate\n",
    "json_body = [\n",
    "{\n",
    "    \"emission_factor\": {\n",
    "        \"activity_id\": activity_id,\n",
    "        \"region\": region,\n",
    "        \"data_version\": data_version\n",
    "    },\n",
    "    \"parameters\": {\n",
    "        \"energy\": 10,\n",
    "        \"energy_unit\": \"kWh\"\n",
    "    }\n",
    "},\n",
    "{\n",
    "    \"emission_factor\": {\n",
    "        \"activity_id\": activity_id,\n",
    "        \"region\": region,\n",
    "        \"data_version\": data_version\n",
    "    },\n",
    "    \"parameters\": {\n",
    "        \"energy\": 100,\n",
    "        \"energy_unit\": \"kWh\"\n",
    "    }\n",
    "}\n",
    "]\n",
    "\n",
    "# You must always specify your AUTH token in the \"Authorization\" header like this.\n",
    "authorization_headers = {\"Authorization\": f\"Bearer: {MY_API_KEY}\"}\n",
    "\n",
    "# We send a POST request to the /batch endpoint with a json body and the correct authorization headers\n",
    "response = requests.post(\"https://api.climatiq.io/data/v1/estimate/batch\", json=json_body, headers=authorization_headers)\n",
    "# The response is also json.\n",
    "response.json()\n",
    "\n"
   ]
  },
  {
   "cell_type": "markdown",
   "metadata": {},
   "source": [
    "# Industry classification estimate\n",
    "\n",
    "If your data comes with an industry specification code Climatiq API allows you to query emission factors, based on their NACE or ISIC industry classification codes. At the moment this endpoint works only with spend-based datasets, in particular EXIOBASE and GHG Protocol. \n",
    "[More details about the industry classification estimate endpoint here](https://www.climatiq.io/docs#classifications) "
   ]
  },
  {
   "cell_type": "code",
   "execution_count": 55,
   "metadata": {
    "ExecuteTime": {
     "end_time": "2024-02-06T14:06:05.624951Z",
     "start_time": "2024-02-06T14:06:05.501617Z"
    }
   },
   "outputs": [
    {
     "data": {
      "text/plain": "    co2e co2e_unit co2e_calculation_method co2e_calculation_origin  \\\n0  688.2        kg                     ar5                  source   \n\n  audit_trail                               emission_factor.name  \\\n0     enabled  Fabricated metal products/except machinery and...   \n\n                         emission_factor.activity_id  \\\n0  metal_products-type_fabricated_metal_products_...   \n\n                     emission_factor.id emission_factor.access_type  \\\n0  e321a1d8-442a-4d07-8034-8249a2a4a455                      public   \n\n  emission_factor.source  ...   emission_factor.category  \\\n0               EXIOBASE  ...  Fabricated Metal Products   \n\n   emission_factor.source_lca_activity emission_factor.data_quality_flags  \\\n0                              unknown                                 []   \n\n  constituent_gases.co2e_total constituent_gases.co2e_other  \\\n0                        688.2                         None   \n\n  constituent_gases.co2  constituent_gases.ch4 constituent_gases.n2o  \\\n0                  None                   None                  None   \n\n  activity_data.activity_value activity_data.activity_unit  \n0                       2682.0                         eur  \n\n[1 rows x 23 columns]",
      "text/html": "<div>\n<style scoped>\n    .dataframe tbody tr th:only-of-type {\n        vertical-align: middle;\n    }\n\n    .dataframe tbody tr th {\n        vertical-align: top;\n    }\n\n    .dataframe thead th {\n        text-align: right;\n    }\n</style>\n<table border=\"1\" class=\"dataframe\">\n  <thead>\n    <tr style=\"text-align: right;\">\n      <th></th>\n      <th>co2e</th>\n      <th>co2e_unit</th>\n      <th>co2e_calculation_method</th>\n      <th>co2e_calculation_origin</th>\n      <th>audit_trail</th>\n      <th>emission_factor.name</th>\n      <th>emission_factor.activity_id</th>\n      <th>emission_factor.id</th>\n      <th>emission_factor.access_type</th>\n      <th>emission_factor.source</th>\n      <th>...</th>\n      <th>emission_factor.category</th>\n      <th>emission_factor.source_lca_activity</th>\n      <th>emission_factor.data_quality_flags</th>\n      <th>constituent_gases.co2e_total</th>\n      <th>constituent_gases.co2e_other</th>\n      <th>constituent_gases.co2</th>\n      <th>constituent_gases.ch4</th>\n      <th>constituent_gases.n2o</th>\n      <th>activity_data.activity_value</th>\n      <th>activity_data.activity_unit</th>\n    </tr>\n  </thead>\n  <tbody>\n    <tr>\n      <th>0</th>\n      <td>688.2</td>\n      <td>kg</td>\n      <td>ar5</td>\n      <td>source</td>\n      <td>enabled</td>\n      <td>Fabricated metal products/except machinery and...</td>\n      <td>metal_products-type_fabricated_metal_products_...</td>\n      <td>e321a1d8-442a-4d07-8034-8249a2a4a455</td>\n      <td>public</td>\n      <td>EXIOBASE</td>\n      <td>...</td>\n      <td>Fabricated Metal Products</td>\n      <td>unknown</td>\n      <td>[]</td>\n      <td>688.2</td>\n      <td>None</td>\n      <td>None</td>\n      <td>None</td>\n      <td>None</td>\n      <td>2682.0</td>\n      <td>eur</td>\n    </tr>\n  </tbody>\n</table>\n<p>1 rows × 23 columns</p>\n</div>"
     },
     "execution_count": 55,
     "metadata": {},
     "output_type": "execute_result"
    }
   ],
   "source": [
    "url = \"https://api.climatiq.io/classifications/v1/estimate\"\n",
    "\n",
    "data = {\n",
    "        \"classification\": {\n",
    "        \"classification_type\": \"isic4\", # here add your classification type, at the momement it will be either nace2 or isic4\n",
    "        \"classification_code\": \"25\", # here add a code from your classification, e.g. for NACE 01.19 you would add 01.19 - note that the value has to be a string\n",
    "        \"source\": \"EXIOBASE\", # choose the desired source - at them momement, only EXIOBASE and GHG Protocol data are mapped to the industry classification codes\n",
    "        \"year\": 2019, # choose the year of interest\n",
    "        \"region\": \"DE\" # choose your location of interest, double digit UN Locode or one of the pre-defined location codes - global from GHG Protocl or one of the 5 pre-defined \n",
    "        # \"rest of the world locations\" from EXIOBASE, see documentation around OEFDB for more information\n",
    "    },\n",
    "    \"parameters\": {\n",
    "        \"money\": 3000,  # provide amount of money spend on the specific activity\n",
    "        \"money_unit\": \"usd\" # choose currency, currently we support more than 30 currencies - please check the documentation\n",
    "    }\n",
    "}\n",
    "\n",
    "# You must always specify your AUTH token in the \"Authorization\" header like this.\n",
    "authorization_headers = {\"Authorization\": f\"Bearer: {MY_API_KEY}\"}\n",
    "\n",
    "response = requests.post(url,headers=authorization_headers,json=data) # this establishes connection to the API\n",
    "response_data = json.loads(response.text) # this line queries the data\n",
    "\n",
    "import pandas as pd\n",
    "pd.json_normalize(response_data) # you could create a pandas library dataframe out of the API response \n"
   ]
  },
  {
   "cell_type": "markdown",
   "metadata": {
    "pycharm": {
     "name": "#%% md\n"
    }
   },
   "source": [
    "# Moving on\n",
    "Climatiq has much more to offer, such as:\n",
    "- Over 12.000 emission factors covering purchsaes, fuel, accomodation, different travel modes, waste processing [and more](https://docs.climatiq.io/#examples).\n",
    "- Estimating based on [flight routes](https://docs.climatiq.io/#flights)\n",
    "- Estimating the emissions of [cloud compute usage](https://docs.climatiq.io/#cloud-computing)\n",
    "- Estimating by using industry classification codes such as ISIC or NAICS"
   ]
  }
 ],
 "metadata": {
  "interpreter": {
   "hash": "e7370f93d1d0cde622a1f8e1c04877d8463912d04d973331ad4851f04de6915a"
  },
  "kernelspec": {
   "display_name": "Python 3.10.2 64-bit",
   "language": "python",
   "name": "python3"
  },
  "language_info": {
   "codemirror_mode": {
    "name": "ipython",
    "version": 3
   },
   "file_extension": ".py",
   "mimetype": "text/x-python",
   "name": "python",
   "nbconvert_exporter": "python",
   "pygments_lexer": "ipython3",
   "version": "3.10.2"
  },
  "orig_nbformat": 4
 },
 "nbformat": 4,
 "nbformat_minor": 2
}
